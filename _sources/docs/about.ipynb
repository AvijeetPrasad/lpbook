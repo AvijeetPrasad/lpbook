{
 "cells": [
  {
   "cell_type": "markdown",
   "id": "remarkable-generator",
   "metadata": {},
   "source": [
    "(about)=\n",
    "\n",
    "# About Us\n",
    "\n",
    "## Team\n",
    "-   Prof. C. Sivaram\n",
    "-   Arun Kenath\n",
    "-   Avijeet Prasad\n",
    "\n",
    "**Prof. C. Sivaram** retired as senior professor, Indian Institute of Astrophysics, Bangalore, received his PhD Degree from the indian Institute of Science in 1977. After a few years on the staff of IISc, he joined Indian institute of Astrophysics as a visiting fellow in 1980 and moved up the academic​ ladder since. In IIA his research work has mainly been in several areas of theoretical astrophysics and cosmology.\n",
    "\n",
    "His early work on the early universe resulted in some of the earliest work on inflation models dealing with a time varying cosmological constant. Some of the work has led to insights into the unification of fundamental interactions in the early universe with energy dependent coupling constants. He had also made several contributions to high energy astrophysics, some of which include the origin and acceleration of the highest energy cosmic rays, gamma ray and neutrino production in quasar effects of neutron antineutron oscillations, decay of cosmic strings and dbranes and COBE constraints on particle properties and theories. Also, contributions are made to the solar neutrino problem, pulsar physics, gravitational radiation, theories of galaxy formation, dark matter etc. along with some new work on black hole entropy.\n",
    "\n",
    "He has authored or co-authored several review articles which have also appeared in Physics Reports, Reports in Prog Physics, etc. Recently he had been invited to contribute many such articles to several monographs. He was an invited speaker at more than 25 international conferences and also a plenary speaker at several NATO Advanced Study Institutes an topics ranging from black holes, cosmology and particle physics to gravitational waves, etc.\n",
    "\n",
    "His recent studies on spin effects in gravitation led to a monograph on the subject (co-authored with de Sabbata) published by World Scientific). Over the years he has collaborated with leading scientists from several countries. He has held more than ten visiting professorships abroad (including two sabbaticals) over the past decade in universities in Europe, North and South America, Australia, Russia, etc. He was also a Joint Director of projects of the World Laboratory Geneva for the period between 1989 to 1994.\n",
    "\n",
    "His recent foreign collaborations include: work on chromogravity approach to quark and gluon confinement with Nobel laureate Abdus Salam, later extended with Ne’eman; spin and torsion effects gravitation with de Sabbata; new models of inflation with de Andrade; radioactive effects of additional long range forces in binary systems with Bertotti; COBE constraints on galaxy correlations with Landsberg plus on many other topics ranging from interference in gravitational field, entropy of gravitating systems and new approaches to the quantization of gravity (these latter areas with noted German, Russian, Brazilian and Chinese scientists).\n",
    "\n",
    "Apart from outside collaborations, he has collaborated with several of his colleagues in IIA on a whole spectrum of topics in astrophysics.\n",
    "\n",
    "Among the international awards received are Martin Forster Gold Medal and the Ettore Majorana Fellowship. Over twenty of his papers were selected for Honourable Mention in the Gravity Research Foundation Competition. He also received an international prize for a recent proper.\n",
    "\n",
    "He has more than 250 publications in international journals. He is a fellow of the International Astronomical Union (IAU) and a member of the IAU Commission No. 51 an on Bioastronomy for the past several years. He has authored/co-authored seven books on topics ranging from astrophysics, cosmology to astrobiology and rocket dynamics.\n",
    "\n",
    "---\n",
    "**Arun Kenath** is an avid physicist and academician. He is the recipient of six gold medals from Bangalore University. He has a PhD in Physics (Astrophysics). His primary area of expertise is cosmology and theoretical astrophysics. He has been an invited speaker to various institutions, on topics ranging from cosmology to artificial intelligence. He serves in the editorial board of three international peer-review journals/newsletters. He has published papers in various international journals, and has authored four books on astrophysics and astrobiology. He currently works as a lecturer at the Department of Physics, Christ Junior College, Bangalore.\n",
    "\n",
    "---\n",
    "**Avijeet Prasad** is currently a postdoctoral fellow at the University of Alabama in Huntsville. His research focuses on the magnetohydrodynamics of the solar atmosphere and high energetic phenomena like solar flares and coronal mass ejections."
   ]
  }
 ],
 "metadata": {
  "jupytext": {
   "text_representation": {
    "extension": ".md",
    "format_name": "myst"
   }
  },
  "kernelspec": {
   "display_name": "Python 3",
   "language": "python",
   "name": "python3"
  },
  "language_info": {
   "codemirror_mode": {
    "name": "ipython",
    "version": 3
   },
   "file_extension": ".py",
   "mimetype": "text/x-python",
   "name": "python",
   "nbconvert_exporter": "python",
   "pygments_lexer": "ipython3",
   "version": "3.8.5"
  },
  "source_map": [
   10
  ]
 },
 "nbformat": 4,
 "nbformat_minor": 5
}